{
 "cells": [
  {
   "cell_type": "code",
   "execution_count": 1,
   "metadata": {},
   "outputs": [],
   "source": [
    "#Load needed packages\n",
    "import pandas as pd\n",
    "import string"
   ]
  },
  {
   "cell_type": "code",
   "execution_count": 36,
   "metadata": {},
   "outputs": [],
   "source": [
    "#Read all text data\n",
    "with open('aljazeera-khashoggi.txt', 'r') as file:\n",
    "    news1 = file.read()\n",
    "with open('bbc-khashoggi.txt', 'r') as file:\n",
    "    news2 = file.read()\n",
    "with open('breitbart-khashoggi.txt', 'r') as file:\n",
    "    news3 = file.read()\n",
    "with open('cnn-khashoggi.txt', 'r') as file:\n",
    "    news4 = file.read()\n",
    "with open('fox-khashoggi.txt', 'r') as file:\n",
    "    news5 = file.read()"
   ]
  },
  {
   "cell_type": "code",
   "execution_count": 38,
   "metadata": {},
   "outputs": [],
   "source": [
    "#Load stop words data\n",
    "stop_word = pd.read_csv(\"stop_words.csv\")"
   ]
  },
  {
   "cell_type": "code",
   "execution_count": 37,
   "metadata": {},
   "outputs": [],
   "source": [
    "#Create a function to remove all punctuations\n",
    "def remove_p(text):\n",
    "    for i in text:\n",
    "        if i in string.punctuation:\n",
    "            text = text.replace(i, \"\")\n",
    "    return text"
   ]
  },
  {
   "cell_type": "code",
   "execution_count": null,
   "metadata": {},
   "outputs": [],
   "source": [
    "#Create a function to remove all stop words\n"
   ]
  }
 ],
 "metadata": {
  "kernelspec": {
   "display_name": "Python 3",
   "language": "python",
   "name": "python3"
  },
  "language_info": {
   "codemirror_mode": {
    "name": "ipython",
    "version": 3
   },
   "file_extension": ".py",
   "mimetype": "text/x-python",
   "name": "python",
   "nbconvert_exporter": "python",
   "pygments_lexer": "ipython3",
   "version": "3.7.3"
  }
 },
 "nbformat": 4,
 "nbformat_minor": 2
}

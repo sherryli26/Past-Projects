{
 "cells": [
  {
   "cell_type": "code",
   "execution_count": 2,
   "metadata": {},
   "outputs": [],
   "source": [
    "import pandas as pd\n",
    "import numpy as np\n",
    "import pprint as pp # for printing\n",
    "import scipy.stats as st # for Normal PDF"
   ]
  },
  {
   "cell_type": "markdown",
   "metadata": {},
   "source": [
    "#  Build a Naive Bayesian Classifier\n",
    "\n"
   ]
  },
  {
   "cell_type": "markdown",
   "metadata": {},
   "source": [
    "**Can we predict whether someone will vote or not?**\n",
    "\n",
    "Built a naive bayesian classifier to analyze a dataset of people with\n",
    "different age, education background, income and race, to predict their propensity to vote."
   ]
  },
  {
   "cell_type": "code",
   "execution_count": 11,
   "metadata": {},
   "outputs": [
    {
     "data": {
      "text/html": [
       "<div>\n",
       "<style scoped>\n",
       "    .dataframe tbody tr th:only-of-type {\n",
       "        vertical-align: middle;\n",
       "    }\n",
       "\n",
       "    .dataframe tbody tr th {\n",
       "        vertical-align: top;\n",
       "    }\n",
       "\n",
       "    .dataframe thead th {\n",
       "        text-align: right;\n",
       "    }\n",
       "</style>\n",
       "<table border=\"1\" class=\"dataframe\">\n",
       "  <thead>\n",
       "    <tr style=\"text-align: right;\">\n",
       "      <th></th>\n",
       "      <th>id</th>\n",
       "      <th>age</th>\n",
       "      <th>educate</th>\n",
       "      <th>income</th>\n",
       "      <th>vote</th>\n",
       "      <th>white</th>\n",
       "    </tr>\n",
       "  </thead>\n",
       "  <tbody>\n",
       "    <tr>\n",
       "      <td>0</td>\n",
       "      <td>1353</td>\n",
       "      <td>46</td>\n",
       "      <td>9.0</td>\n",
       "      <td>1.8429</td>\n",
       "      <td>0</td>\n",
       "      <td>0</td>\n",
       "    </tr>\n",
       "    <tr>\n",
       "      <td>1</td>\n",
       "      <td>122</td>\n",
       "      <td>25</td>\n",
       "      <td>15.0</td>\n",
       "      <td>3.8606</td>\n",
       "      <td>1</td>\n",
       "      <td>1</td>\n",
       "    </tr>\n",
       "    <tr>\n",
       "      <td>2</td>\n",
       "      <td>1530</td>\n",
       "      <td>69</td>\n",
       "      <td>17.0</td>\n",
       "      <td>13.3041</td>\n",
       "      <td>1</td>\n",
       "      <td>1</td>\n",
       "    </tr>\n",
       "    <tr>\n",
       "      <td>3</td>\n",
       "      <td>162</td>\n",
       "      <td>53</td>\n",
       "      <td>10.0</td>\n",
       "      <td>3.5800</td>\n",
       "      <td>1</td>\n",
       "      <td>1</td>\n",
       "    </tr>\n",
       "    <tr>\n",
       "      <td>4</td>\n",
       "      <td>1807</td>\n",
       "      <td>34</td>\n",
       "      <td>16.0</td>\n",
       "      <td>5.4713</td>\n",
       "      <td>1</td>\n",
       "      <td>0</td>\n",
       "    </tr>\n",
       "  </tbody>\n",
       "</table>\n",
       "</div>"
      ],
      "text/plain": [
       "     id  age  educate   income  vote  white\n",
       "0  1353   46      9.0   1.8429     0      0\n",
       "1   122   25     15.0   3.8606     1      1\n",
       "2  1530   69     17.0  13.3041     1      1\n",
       "3   162   53     10.0   3.5800     1      1\n",
       "4  1807   34     16.0   5.4713     1      0"
      ]
     },
     "execution_count": 11,
     "metadata": {},
     "output_type": "execute_result"
    }
   ],
   "source": [
    "dat = pd.read_csv('turnout.csv')\n",
    "\n",
    "# Break data up into training and test data\n",
    "train=dat.sample(frac=0.8,random_state=323)\n",
    "test=dat.drop(train.index)\n",
    "\n",
    "# Reset the indices for both the train and test\n",
    "train.reset_index(drop=True,inplace=True)\n",
    "test.reset_index(drop=True,inplace=True)\n",
    "\n",
    "# Preview the training data \n",
    "train.head()"
   ]
  },
  {
   "cell_type": "code",
   "execution_count": 12,
   "metadata": {},
   "outputs": [],
   "source": [
    "y1=train.query(\"vote==1\")\n",
    "y0=train.query(\"vote==0\")"
   ]
  },
  {
   "cell_type": "code",
   "execution_count": 13,
   "metadata": {},
   "outputs": [
    {
     "data": {
      "text/plain": [
       "0.25812500000000005"
      ]
     },
     "execution_count": 13,
     "metadata": {},
     "output_type": "execute_result"
    }
   ],
   "source": [
    "pr_y1=sum(train.vote)/len(train.vote)\n",
    "pr_y0=1-pr_y1\n",
    "pr_y0"
   ]
  },
  {
   "cell_type": "code",
   "execution_count": 16,
   "metadata": {},
   "outputs": [
    {
     "data": {
      "text/plain": [
       "{(1, 1): 0.8761583824768323,\n",
       " (0, 1): 0.7796610169491526,\n",
       " (1, 0): 0.12384161752316769,\n",
       " (0, 0): 0.22033898305084743}"
      ]
     },
     "execution_count": 16,
     "metadata": {},
     "output_type": "execute_result"
    }
   ],
   "source": [
    "white={\\\n",
    "(1,1):sum(y1.white)/len(y1),\n",
    "(0,1):sum(y0.white)/len(y0),\n",
    "(1,0):1-sum(y1.white)/len(y1),\n",
    "(0,0):1-sum(y0.white)/len(y0)}\n",
    "white"
   ]
  },
  {
   "cell_type": "code",
   "execution_count": 17,
   "metadata": {},
   "outputs": [
    {
     "name": "stdout",
     "output_type": "stream",
     "text": [
      "{('age', 0): {'mean': 42.653753026634384, 'sd': 19.127668078553704},\n",
      " ('age', 1): {'mean': 46.14827295703454, 'sd': 16.760134583719374},\n",
      " ('educate', 0): {'mean': 10.665859564164649, 'sd': 3.2326417027391363},\n",
      " ('educate', 1): {'mean': 12.59519797809604, 'sd': 3.249301731768977},\n",
      " ('income', 0): {'mean': 2.8083740920096854, 'sd': 2.2222018360245834},\n",
      " ('income', 1): {'mean': 4.258665796124673, 'sd': 2.900978327757866}}\n"
     ]
    }
   ],
   "source": [
    "# Calculate the conditional means/standard deviations\n",
    "dist_locs = \\\n",
    "{(\"age\",1):{'mean':y1.age.mean(),'sd':y1.age.std()},\n",
    " (\"age\",0):{'mean':y0.age.mean(),'sd':y0.age.std()},\n",
    " (\"educate\",1):{'mean':y1.educate.mean(),'sd':y1.educate.std()},\n",
    " (\"educate\",0):{'mean':y0.educate.mean(),'sd':y0.educate.std()},\n",
    " (\"income\",1):{'mean':y1.income.mean(),'sd':y1.income.std()},\n",
    " (\"income\",0):{'mean':y0.income.mean(),'sd':y0.income.std()},\n",
    "}\n",
    "\n",
    "# Print\n",
    "pp.pprint(dist_locs)"
   ]
  },
  {
   "cell_type": "code",
   "execution_count": 18,
   "metadata": {},
   "outputs": [],
   "source": [
    "def predict(data,dist_locs):\n",
    "    ''''''\n",
    "    store_preds = []\n",
    "    for i,row in data.iterrows():\n",
    "        \n",
    "        # Get the predictions using a Gaussan distribution\n",
    "        pr_0 = 1; pr_1 = 1\n",
    "        for j in range(1,len(row)-2):\n",
    "            pr_0 *= st.norm(dist_locs[(row.index[j],0)]['mean'],\n",
    "                            dist_locs[(row.index[j],0)]['sd']).pdf(row.values[j])\n",
    "            pr_1 *= st.norm(dist_locs[(row.index[j],1)]['mean'], \n",
    "                            dist_locs[(row.index[j],1)]['sd']).pdf(row.values[j])\n",
    "        # Add white variable into the model\n",
    "        pr_0 *= white[(0,row.values[5])]\n",
    "        pr_1 *= white[(1,row.values[5])]\n",
    "        pr_0 *= pr_y0\n",
    "        pr_1 *= pr_y1\n",
    "        \n",
    "        # Assign the class designation to the highest probability\n",
    "        if pr_0 >= pr_1:\n",
    "            class_pred = 0\n",
    "        else:\n",
    "            class_pred = 1\n",
    "            \n",
    "        store_preds.append([pr_0,pr_1,class_pred])\n",
    "        \n",
    "    return pd.DataFrame(store_preds,columns=[\"pr_0\",\"pr_1\",\"pred\"])\n",
    "\n",
    "# Run\n",
    "preds_train = predict(train,dist_locs)"
   ]
  },
  {
   "cell_type": "code",
   "execution_count": 19,
   "metadata": {},
   "outputs": [
    {
     "data": {
      "text/html": [
       "<div>\n",
       "<style scoped>\n",
       "    .dataframe tbody tr th:only-of-type {\n",
       "        vertical-align: middle;\n",
       "    }\n",
       "\n",
       "    .dataframe tbody tr th {\n",
       "        vertical-align: top;\n",
       "    }\n",
       "\n",
       "    .dataframe thead th {\n",
       "        text-align: right;\n",
       "    }\n",
       "</style>\n",
       "<table border=\"1\" class=\"dataframe\">\n",
       "  <thead>\n",
       "    <tr style=\"text-align: right;\">\n",
       "      <th></th>\n",
       "      <th>pr_0</th>\n",
       "      <th>pr_1</th>\n",
       "      <th>pred</th>\n",
       "    </tr>\n",
       "  </thead>\n",
       "  <tbody>\n",
       "    <tr>\n",
       "      <td>0</td>\n",
       "      <td>2.062282e-05</td>\n",
       "      <td>1.415390e-05</td>\n",
       "      <td>0</td>\n",
       "    </tr>\n",
       "    <tr>\n",
       "      <td>1</td>\n",
       "      <td>2.210363e-05</td>\n",
       "      <td>8.876913e-05</td>\n",
       "      <td>1</td>\n",
       "    </tr>\n",
       "    <tr>\n",
       "      <td>2</td>\n",
       "      <td>7.562946e-11</td>\n",
       "      <td>3.185128e-07</td>\n",
       "      <td>1</td>\n",
       "    </tr>\n",
       "    <tr>\n",
       "      <td>3</td>\n",
       "      <td>7.405178e-05</td>\n",
       "      <td>1.699555e-04</td>\n",
       "      <td>1</td>\n",
       "    </tr>\n",
       "    <tr>\n",
       "      <td>4</td>\n",
       "      <td>2.965753e-06</td>\n",
       "      <td>1.502657e-05</td>\n",
       "      <td>1</td>\n",
       "    </tr>\n",
       "    <tr>\n",
       "      <td>5</td>\n",
       "      <td>7.832032e-05</td>\n",
       "      <td>1.732741e-04</td>\n",
       "      <td>1</td>\n",
       "    </tr>\n",
       "    <tr>\n",
       "      <td>6</td>\n",
       "      <td>2.017537e-05</td>\n",
       "      <td>5.439231e-05</td>\n",
       "      <td>1</td>\n",
       "    </tr>\n",
       "    <tr>\n",
       "      <td>7</td>\n",
       "      <td>1.527510e-05</td>\n",
       "      <td>2.723129e-05</td>\n",
       "      <td>1</td>\n",
       "    </tr>\n",
       "    <tr>\n",
       "      <td>8</td>\n",
       "      <td>8.329932e-05</td>\n",
       "      <td>1.252433e-04</td>\n",
       "      <td>1</td>\n",
       "    </tr>\n",
       "    <tr>\n",
       "      <td>9</td>\n",
       "      <td>3.836915e-06</td>\n",
       "      <td>4.930827e-05</td>\n",
       "      <td>1</td>\n",
       "    </tr>\n",
       "  </tbody>\n",
       "</table>\n",
       "</div>"
      ],
      "text/plain": [
       "           pr_0          pr_1  pred\n",
       "0  2.062282e-05  1.415390e-05     0\n",
       "1  2.210363e-05  8.876913e-05     1\n",
       "2  7.562946e-11  3.185128e-07     1\n",
       "3  7.405178e-05  1.699555e-04     1\n",
       "4  2.965753e-06  1.502657e-05     1\n",
       "5  7.832032e-05  1.732741e-04     1\n",
       "6  2.017537e-05  5.439231e-05     1\n",
       "7  1.527510e-05  2.723129e-05     1\n",
       "8  8.329932e-05  1.252433e-04     1\n",
       "9  3.836915e-06  4.930827e-05     1"
      ]
     },
     "execution_count": 19,
     "metadata": {},
     "output_type": "execute_result"
    }
   ],
   "source": [
    "# Predicted output\n",
    "preds_train.head(10)"
   ]
  },
  {
   "cell_type": "code",
   "execution_count": 21,
   "metadata": {},
   "outputs": [
    {
     "data": {
      "text/plain": [
       "0.74125"
      ]
     },
     "execution_count": 21,
     "metadata": {},
     "output_type": "execute_result"
    }
   ],
   "source": [
    "accuracy_train=sum(preds_train.pred==train.vote)/len(train.vote)\n",
    "accuracy_train"
   ]
  },
  {
   "cell_type": "code",
   "execution_count": 22,
   "metadata": {
    "scrolled": true
   },
   "outputs": [
    {
     "data": {
      "text/plain": [
       "0.72"
      ]
     },
     "execution_count": 22,
     "metadata": {},
     "output_type": "execute_result"
    }
   ],
   "source": [
    "# Using test data to test accuracy\n",
    "preds_test=predict(test,dist_locs)\n",
    "accuracy_test=sum(preds_test.pred==test.vote)/len(test.vote)\n",
    "accuracy_test"
   ]
  },
  {
   "cell_type": "markdown",
   "metadata": {},
   "source": [
    "The prediction accuracy is better than chance. Also, I tried the model without white variable, and the accuracy didn't change. That indicates race does not have an influence on one's propensity to vote."
   ]
  },
  {
   "cell_type": "code",
   "execution_count": null,
   "metadata": {},
   "outputs": [],
   "source": []
  },
  {
   "cell_type": "code",
   "execution_count": null,
   "metadata": {},
   "outputs": [],
   "source": []
  },
  {
   "cell_type": "code",
   "execution_count": null,
   "metadata": {},
   "outputs": [],
   "source": []
  },
  {
   "cell_type": "code",
   "execution_count": null,
   "metadata": {},
   "outputs": [],
   "source": []
  }
 ],
 "metadata": {
  "kernelspec": {
   "display_name": "Python 3",
   "language": "python",
   "name": "python3"
  },
  "language_info": {
   "codemirror_mode": {
    "name": "ipython",
    "version": 3
   },
   "file_extension": ".py",
   "mimetype": "text/x-python",
   "name": "python",
   "nbconvert_exporter": "python",
   "pygments_lexer": "ipython3",
   "version": "3.7.4"
  },
  "toc": {
   "base_numbering": 1,
   "nav_menu": {},
   "number_sections": false,
   "sideBar": false,
   "skip_h1_title": false,
   "title_cell": "Table of Contents",
   "title_sidebar": "Contents",
   "toc_cell": false,
   "toc_position": {},
   "toc_section_display": true,
   "toc_window_display": false
  }
 },
 "nbformat": 4,
 "nbformat_minor": 2
}
